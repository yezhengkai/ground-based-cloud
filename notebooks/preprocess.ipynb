{
 "cells": [
  {
   "cell_type": "markdown",
   "metadata": {},
   "source": [
    "# import packages"
   ]
  },
  {
   "cell_type": "code",
   "execution_count": 1,
   "metadata": {},
   "outputs": [],
   "source": [
    "from pathlib import Path\n",
    "\n",
    "import numpy as np\n",
    "import pandas as pd\n",
    "import torchvision\n",
    "\n",
    "from PIL import Image, ImageFilter"
   ]
  },
  {
   "cell_type": "markdown",
   "metadata": {},
   "source": [
    "# Set random seed for reproducability"
   ]
  },
  {
   "cell_type": "code",
   "execution_count": 2,
   "metadata": {},
   "outputs": [],
   "source": [
    "SEED = 100\n",
    "\n",
    "np.random.seed(SEED)\n",
    "rng = np.random.default_rng(SEED)"
   ]
  },
  {
   "source": [
    "# Set variables and preprocess pipeline"
   ],
   "cell_type": "markdown",
   "metadata": {}
  },
  {
   "cell_type": "code",
   "execution_count": 3,
   "metadata": {},
   "outputs": [],
   "source": [
    "datadir = Path('../data')\n",
    "raw_datadir = datadir.joinpath('CCSN_v2')\n",
    "train_datadir = datadir.joinpath('processed', 'train')\n",
    "test_datadir = datadir.joinpath('processed', 'test')\n",
    "train_ratio = 0.9  # test_ratio = 1 - train_ratio\n",
    "\n",
    "# for preprocess\n",
    "pipeline = [\n",
    "    lambda img: Image.Image.resize(img, (256, 256)),  # shape (256, 256)\n",
    "    lambda img: Image.Image.crop(img, (14, 14, 241, 241)),  # shape (227, 227)\n",
    "    {'img_filter': [ImageFilter.EDGE_ENHANCE, ImageFilter.UnsharpMask]}\n",
    "]\n",
    "suffix = ['resize', 'edge', 'unsharp']"
   ]
  },
  {
   "source": [
    "# Get raw data path and split to train/test data"
   ],
   "cell_type": "markdown",
   "metadata": {}
  },
  {
   "cell_type": "code",
   "execution_count": 4,
   "metadata": {},
   "outputs": [
    {
     "output_type": "stream",
     "name": "stdout",
     "text": [
      "Number of images for training: 6866\nNumber of images for testing: 763\n"
     ]
    }
   ],
   "source": [
    "dataset = torchvision.datasets.ImageFolder(raw_datadir)\n",
    "# make dir\n",
    "for img_cls in dataset.classes:\n",
    "    if not train_datadir.joinpath(img_cls).is_dir():\n",
    "        train_datadir.joinpath(img_cls).mkdir(parents=True)\n",
    "    if not test_datadir.joinpath(img_cls).is_dir():\n",
    "        test_datadir.joinpath(img_cls).mkdir(parents=True)\n",
    "\n",
    "# get raw data path\n",
    "idx_to_class = {value: key for key, value in dataset.class_to_idx.items()}\n",
    "df = pd.DataFrame(dataset.samples, columns=['img_path', 'img_idx'])\n",
    "df['img_cls'] = df.img_idx.apply(lambda x: idx_to_class[x]).values\n",
    "\n",
    "# split train/test\n",
    "num_img_inclass = len(suffix)\n",
    "num_processed_img = df.shape[0] * num_img_inclass\n",
    "num_train_img = int(num_processed_img * train_ratio)\n",
    "num_test_img = num_processed_img - num_train_img\n",
    "is_train = rng.permutation(\n",
    "    np.r_[np.ones(num_train_img), np.zeros(num_test_img)]\n",
    ").reshape(-1, num_img_inclass)\n",
    "print(f'Number of images for training: {num_train_img}')\n",
    "print(f'Number of images for testing: {num_test_img}')"
   ]
  },
  {
   "source": [
    "# Preprocess and save"
   ],
   "cell_type": "markdown",
   "metadata": {}
  },
  {
   "cell_type": "code",
   "execution_count": 5,
   "metadata": {},
   "outputs": [],
   "source": [
    "for i, (raw_img_path, img_cls) in enumerate(df[['img_path', 'img_cls']].values):\n",
    "    raw_img_path = Path(raw_img_path)\n",
    "    img = Image.open(raw_img_path)\n",
    "    imgs = [img for i in range(num_img_inclass)]\n",
    "    for proc in pipeline:\n",
    "        if callable(proc):\n",
    "            imgs = [proc(img) for img in imgs]\n",
    "        elif isinstance(proc, dict) and 'img_filter' in proc:\n",
    "            for j, _filter in enumerate(proc['img_filter']):\n",
    "                imgs[j+1] = imgs[j+1].filter(_filter)\n",
    "        else:\n",
    "            pass\n",
    "    for j, img in enumerate(imgs):\n",
    "        if is_train[i, j]:\n",
    "            processed_img_path = train_datadir.joinpath(\n",
    "                img_cls, \n",
    "                f'{raw_img_path.resolve().stem}-{suffix[j]}{raw_img_path.suffix}'\n",
    "            )\n",
    "            img.save(processed_img_path)\n",
    "        else:\n",
    "            processed_img_path = test_datadir.joinpath(\n",
    "                img_cls, \n",
    "                f'{raw_img_path.resolve().stem}-{suffix[j]}{raw_img_path.suffix}'\n",
    "            )\n",
    "            img.save(processed_img_path)"
   ]
  }
 ],
 "metadata": {
  "kernelspec": {
   "name": "python3",
   "display_name": "Python 3.8.5 64-bit ('ML': conda)",
   "metadata": {
    "interpreter": {
     "hash": "3c935af1c2f5f505b35355f324098d577abefa2dd5fd366db7c56d0bb7ce69ae"
    }
   }
  },
  "language_info": {
   "codemirror_mode": {
    "name": "ipython",
    "version": 3
   },
   "file_extension": ".py",
   "mimetype": "text/x-python",
   "name": "python",
   "nbconvert_exporter": "python",
   "pygments_lexer": "ipython3",
   "version": "3.8.5-final"
  }
 },
 "nbformat": 4,
 "nbformat_minor": 2
}